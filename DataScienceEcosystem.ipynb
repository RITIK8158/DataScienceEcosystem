{
  "cells": [
    {
      "cell_type": "markdown",
      "metadata": {},
      "source": [
        "# Data Science Tools and Ecosystem"
      ]
    },
    {
      "cell_type": "markdown",
      "metadata": {},
      "source": [
        "In this notebook, Data Science Tools and Ecosystem are summarized."
      ]
    },
    {
      "cell_type": "markdown",
      "metadata": {},
      "source": [
        "**Objectives:**\n",
        "- List popular languages for Data Science\n",
        "- List commonly used libraries\n",
        "- Data Science Tools\n",
        "- Arithmetic expression examples"
      ]
    },
    {
      "cell_type": "markdown",
      "metadata": {},
      "source": [
        "### Some of the popular languages that Data Scientists use are:\n",
        "\n",
        "1. Python: Widely used due to its simplicity and the vast ecosystem of libraries like Pandas, NumPy, Scikit-learn, and TensorFlow for data manipulation, analysis, and machine learning.\n",
        "2. R: Known for its strong statistical capabilities and a rich set of packages like ggplot2, dplyr, and caret for data visualization and analysis.\n",
        "3. SQL: Essential for querying and managing databases, SQL is a crucial skill for accessing and manipulating data stored in relational databases.\n",
        "4. Julia: Gaining popularity for its speed and performance, particularly in numerical and scientific computing.\n",
        "5. Java: Sometimes used in large-scale production environments, especially for big data frameworks like Apache Hadoop and Apache Spark.\n",
        "6. Scala: Often used in conjunction with Apache Spark for big data processing.\n",
        "7. MATLAB: Popular in academic and research settings, especially for numerical computing and algorithm development.\n",
        "8. SAS: A specialized tool for statistical analysis, commonly used in industries like healthcare and finance.\n",
        "\n",
        "Each of these languages has its strengths and is chosen based on the specific needs of the data science project."
      ]
    },
    {
      "cell_type": "markdown",
      "metadata": {},
      "source": [
        "### Some of the commonly used libraries used by Data Scientists include:\n",
        " 1. #### Python Libraries:\n",
        "     1) Pandas\n",
        "     2) NumPy\n",
        "     3) Scikit-learn\n",
        "     4) Seaborn\n",
        "     5) TensorFlow\n",
        "     6) Keras\n",
        "     7) PyTorch\n",
        "     8) SciPy\n",
        "     9) NLTK \n",
        "3.  #### R Libraries:\n",
        "    1) ggplot2\n",
        "    2) dplyr\n",
        "    3) caret\n",
        "    4) tidyr\n",
        "    5) shiny \n",
        "3. #### SQL and Big Data Libraries:\n",
        "    1) Apache Spark\n",
        "    2) Hadoop\n",
        "    3) Dask\n",
        "4. #### Other Useful Tools:\n",
        "    1) Jupyter Notebook\n",
        "    2) Tableau\n",
        "       \n",
        "These libraries and tools are essential in the data scientist's toolkit, enabling efficient data analysis, visualization, and machine learning."
      ]
    },
    {
      "cell_type": "markdown",
      "metadata": {},
      "source": [
        "|Data Science Tools|\n",
        "|------|\n",
        "|Jupyter Notebook|\n",
        "|RStudio|\n",
        "|Apache Zeppelin|"
      ]
    },
    {
      "cell_type": "markdown",
      "metadata": {},
      "source": [
        "### Below are a few examples of evaluating arithmetic expressions in Python"
      ]
    },
    {
      "cell_type": "code",
      "execution_count": 6,
      "metadata": {
        "trusted": true
      },
      "outputs": [
        {
          "data": {
            "text/plain": [
              "17"
            ]
          },
          "execution_count": 6,
          "metadata": {},
          "output_type": "execute_result"
        }
      ],
      "source": [
        "# This a simple arithmetic expression to mutiply then add integers\n",
        "(3*4)+5"
      ]
    },
    {
      "cell_type": "code",
      "execution_count": 4,
      "metadata": {
        "trusted": true
      },
      "outputs": [
        {
          "data": {
            "text/plain": [
              "3.3333333333333335"
            ]
          },
          "execution_count": 4,
          "metadata": {},
          "output_type": "execute_result"
        }
      ],
      "source": [
        "#  This will convert 200 minutes to hours by diving by 60 \n",
        "200/60"
      ]
    },
    {
      "cell_type": "markdown",
      "metadata": {},
      "source": [
        "## Author:\n",
        "Prashant Kumar Aryan"
      ]
    }
  ],
  "metadata": {
    "kernelspec": {
      "display_name": "Python (Pyodide)",
      "language": "python",
      "name": "python"
    },
    "language_info": {
      "codemirror_mode": {
        "name": "python",
        "version": 3
      },
      "file_extension": ".py",
      "mimetype": "text/x-python",
      "name": "python",
      "nbconvert_exporter": "python",
      "pygments_lexer": "ipython3",
      "version": "3.8"
    }
  },
  "nbformat": 4,
  "nbformat_minor": 4
}
